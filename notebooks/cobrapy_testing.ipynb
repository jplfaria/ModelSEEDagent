{
 "cells": [
  {
   "cell_type": "code",
   "execution_count": 3,
   "id": "726dbf99-71e5-4f09-8f31-a14165925468",
   "metadata": {},
   "outputs": [
    {
     "name": "stdout",
     "output_type": "stream",
     "text": [
      "Model: iML1515\n",
      "Number of reactions: 2712\n",
      "Number of metabolites: 1877\n",
      "Number of genes: 1516\n",
      "Objective value: 0.87699721425716\n"
     ]
    }
   ],
   "source": [
    "import cobra\n",
    "from pathlib import Path\n",
    "\n",
    "# Define the model path\n",
    "model_path = str(Path(\"/Users/jplfaria/repos/ModelSEEDagent/data/models/iML1515.xml\"))\n",
    "\n",
    "# Load the model\n",
    "model = cobra.io.read_sbml_model(model_path)\n",
    "\n",
    "# Verify the model loaded correctly\n",
    "print(f\"Model: {model.id}\")\n",
    "print(f\"Number of reactions: {len(model.reactions)}\")\n",
    "print(f\"Number of metabolites: {len(model.metabolites)}\")\n",
    "print(f\"Number of genes: {len(model.genes)}\")\n",
    "\n",
    "# Run a simple FBA to check if the model works\n",
    "solution = model.optimize()\n",
    "print(f\"Objective value: {solution.objective_value}\")"
   ]
  },
  {
   "cell_type": "code",
   "execution_count": 6,
   "id": "49af3f34-a3f5-4401-ba0d-c3534eccc9ec",
   "metadata": {},
   "outputs": [],
   "source": [
    "solution = model.optimize()"
   ]
  },
  {
   "cell_type": "code",
   "execution_count": 7,
   "id": "e9055aa1-37de-414b-8844-fbc3252c4a72",
   "metadata": {},
   "outputs": [
    {
     "name": "stdout",
     "output_type": "stream",
     "text": [
      "Objective value: 0.8769972144269834\n"
     ]
    }
   ],
   "source": [
    "print(f\"Objective value: {solution.objective_value}\")"
   ]
  },
  {
   "cell_type": "code",
   "execution_count": 8,
   "id": "d91c7455-1572-427b-aa78-f4e754c59c46",
   "metadata": {},
   "outputs": [
    {
     "name": "stdout",
     "output_type": "stream",
     "text": [
      "Objective value: 0.8769972144269834\n",
      "\n",
      "Key reaction fluxes:\n",
      "BIOMASS_Ec_iML1515: Not found in model\n",
      "EX_glc__D_e: -10.0\n",
      "PGI: 7.644633780205899\n",
      "PFK: 8.45176377025259\n",
      "\n",
      "Number of reactions carrying flux: 432\n"
     ]
    }
   ],
   "source": [
    "solution = model.optimize()\n",
    "\n",
    "# Print objective value\n",
    "print(f\"Objective value: {solution.objective_value}\")\n",
    "\n",
    "# Print fluxes for a few key reactions\n",
    "print(\"\\nKey reaction fluxes:\")\n",
    "for reaction_id in ['BIOMASS_Ec_iML1515', 'EX_glc__D_e', 'PGI', 'PFK']:\n",
    "    try:\n",
    "        print(f\"{reaction_id}: {solution.fluxes[reaction_id]}\")\n",
    "    except:\n",
    "        print(f\"{reaction_id}: Not found in model\")\n",
    "\n",
    "# Save all fluxes to a file\n",
    "flux_df = solution.fluxes\n",
    "flux_df.to_csv(\"iML1515_fluxes.csv\")\n",
    "\n",
    "# Get reactions carrying flux\n",
    "active_reactions = flux_df[flux_df.abs() > 1e-10]\n",
    "print(f\"\\nNumber of reactions carrying flux: {len(active_reactions)}\")"
   ]
  },
  {
   "cell_type": "code",
   "execution_count": 9,
   "id": "f56d9def-eaa6-4939-86c5-53ddb73f123f",
   "metadata": {},
   "outputs": [],
   "source": [
    "pfba_solution = cobra.flux_analysis.pfba(model)\n",
    "pfba_solution.fluxes.to_csv(\"iML1515_pfba_fluxes.csv\")"
   ]
  },
  {
   "cell_type": "code",
   "execution_count": null,
   "id": "c3e6f2a4-c9d3-4e5b-8a98-e4797817874b",
   "metadata": {},
   "outputs": [],
   "source": []
  }
 ],
 "metadata": {
  "kernelspec": {
   "display_name": "ModelSEED Agent",
   "language": "python",
   "name": "modelseed"
  },
  "language_info": {
   "codemirror_mode": {
    "name": "ipython",
    "version": 3
   },
   "file_extension": ".py",
   "mimetype": "text/x-python",
   "name": "python",
   "nbconvert_exporter": "python",
   "pygments_lexer": "ipython3",
   "version": "3.11.8"
  }
 },
 "nbformat": 4,
 "nbformat_minor": 5
}
